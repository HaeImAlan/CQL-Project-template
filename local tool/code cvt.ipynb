{
 "cells": [
  {
   "cell_type": "code",
   "execution_count": 1,
   "metadata": {},
   "outputs": [],
   "source": [
    "from io import StringIO\n",
    "import pandas as pd"
   ]
  },
  {
   "cell_type": "code",
   "execution_count": 14,
   "metadata": {},
   "outputs": [],
   "source": [
    "codesystem = 'ICD-10-CM'\n",
    "buf = StringIO('''D68.0\t0\tVon Willebrand disease\n",
    "D68.00\t1\tVon Willebrand disease, unspecified\n",
    "D68.01\t1\tVon Willebrand disease, type 1\n",
    "D68.02\t0\tVon Willebrand disease, type 2\n",
    "D68.020\t1\tVon Willebrand disease, type 2A\n",
    "D68.021\t1\tVon Willebrand disease, type 2B\n",
    "D68.022\t1\tVon Willebrand disease, type 2M\n",
    "D68.023\t1\tVon Willebrand disease, type 2N\n",
    "D68.029\t1\tVon Willebrand disease, type 2, unspecified\n",
    "D68.03\t1\tVon Willebrand disease, type 3\n",
    "D68.04\t1\tAcquired von Willebrand disease\n",
    "D68.09\t1\tOther von Willebrand disease''')"
   ]
  },
  {
   "cell_type": "code",
   "execution_count": 16,
   "metadata": {},
   "outputs": [
    {
     "data": {
      "text/html": [
       "<div>\n",
       "<style scoped>\n",
       "    .dataframe tbody tr th:only-of-type {\n",
       "        vertical-align: middle;\n",
       "    }\n",
       "\n",
       "    .dataframe tbody tr th {\n",
       "        vertical-align: top;\n",
       "    }\n",
       "\n",
       "    .dataframe thead th {\n",
       "        text-align: right;\n",
       "    }\n",
       "</style>\n",
       "<table border=\"1\" class=\"dataframe\">\n",
       "  <thead>\n",
       "    <tr style=\"text-align: right;\">\n",
       "      <th></th>\n",
       "      <th>code</th>\n",
       "      <th>active</th>\n",
       "      <th>display</th>\n",
       "    </tr>\n",
       "  </thead>\n",
       "  <tbody>\n",
       "    <tr>\n",
       "      <th>0</th>\n",
       "      <td>D68.0</td>\n",
       "      <td>0</td>\n",
       "      <td>Von Willebrand disease</td>\n",
       "    </tr>\n",
       "    <tr>\n",
       "      <th>1</th>\n",
       "      <td>D68.00</td>\n",
       "      <td>1</td>\n",
       "      <td>Von Willebrand disease, unspecified</td>\n",
       "    </tr>\n",
       "    <tr>\n",
       "      <th>2</th>\n",
       "      <td>D68.01</td>\n",
       "      <td>1</td>\n",
       "      <td>Von Willebrand disease, type 1</td>\n",
       "    </tr>\n",
       "    <tr>\n",
       "      <th>3</th>\n",
       "      <td>D68.02</td>\n",
       "      <td>0</td>\n",
       "      <td>Von Willebrand disease, type 2</td>\n",
       "    </tr>\n",
       "    <tr>\n",
       "      <th>4</th>\n",
       "      <td>D68.020</td>\n",
       "      <td>1</td>\n",
       "      <td>Von Willebrand disease, type 2A</td>\n",
       "    </tr>\n",
       "    <tr>\n",
       "      <th>5</th>\n",
       "      <td>D68.021</td>\n",
       "      <td>1</td>\n",
       "      <td>Von Willebrand disease, type 2B</td>\n",
       "    </tr>\n",
       "    <tr>\n",
       "      <th>6</th>\n",
       "      <td>D68.022</td>\n",
       "      <td>1</td>\n",
       "      <td>Von Willebrand disease, type 2M</td>\n",
       "    </tr>\n",
       "    <tr>\n",
       "      <th>7</th>\n",
       "      <td>D68.023</td>\n",
       "      <td>1</td>\n",
       "      <td>Von Willebrand disease, type 2N</td>\n",
       "    </tr>\n",
       "    <tr>\n",
       "      <th>8</th>\n",
       "      <td>D68.029</td>\n",
       "      <td>1</td>\n",
       "      <td>Von Willebrand disease, type 2, unspecified</td>\n",
       "    </tr>\n",
       "    <tr>\n",
       "      <th>9</th>\n",
       "      <td>D68.03</td>\n",
       "      <td>1</td>\n",
       "      <td>Von Willebrand disease, type 3</td>\n",
       "    </tr>\n",
       "    <tr>\n",
       "      <th>10</th>\n",
       "      <td>D68.04</td>\n",
       "      <td>1</td>\n",
       "      <td>Acquired von Willebrand disease</td>\n",
       "    </tr>\n",
       "    <tr>\n",
       "      <th>11</th>\n",
       "      <td>D68.09</td>\n",
       "      <td>1</td>\n",
       "      <td>Other von Willebrand disease</td>\n",
       "    </tr>\n",
       "  </tbody>\n",
       "</table>\n",
       "</div>"
      ],
      "text/plain": [
       "       code  active                                      display\n",
       "0     D68.0       0                       Von Willebrand disease\n",
       "1    D68.00       1          Von Willebrand disease, unspecified\n",
       "2    D68.01       1               Von Willebrand disease, type 1\n",
       "3    D68.02       0               Von Willebrand disease, type 2\n",
       "4   D68.020       1              Von Willebrand disease, type 2A\n",
       "5   D68.021       1              Von Willebrand disease, type 2B\n",
       "6   D68.022       1              Von Willebrand disease, type 2M\n",
       "7   D68.023       1              Von Willebrand disease, type 2N\n",
       "8   D68.029       1  Von Willebrand disease, type 2, unspecified\n",
       "9    D68.03       1               Von Willebrand disease, type 3\n",
       "10   D68.04       1              Acquired von Willebrand disease\n",
       "11   D68.09       1                 Other von Willebrand disease"
      ]
     },
     "execution_count": 16,
     "metadata": {},
     "output_type": "execute_result"
    }
   ],
   "source": [
    "buf.seek(0)\n",
    "df = pd.read_csv(buf, sep='\\t', header=None, names=['code', 'active', 'display'])\n",
    "df"
   ]
  },
  {
   "cell_type": "code",
   "execution_count": 17,
   "metadata": {},
   "outputs": [
    {
     "name": "stdout",
     "output_type": "stream",
     "text": [
      "code \"Von Willebrand disease code\": 'D68.0' from \"ICD-10-CM\" display 'Von Willebrand disease' \n",
      "code \"Von Willebrand disease, unspecified code\": 'D68.00' from \"ICD-10-CM\" display 'Von Willebrand disease, unspecified' \n",
      "code \"Von Willebrand disease, type 1 code\": 'D68.01' from \"ICD-10-CM\" display 'Von Willebrand disease, type 1' \n",
      "code \"Von Willebrand disease, type 2 code\": 'D68.02' from \"ICD-10-CM\" display 'Von Willebrand disease, type 2' \n",
      "code \"Von Willebrand disease, type 2A code\": 'D68.020' from \"ICD-10-CM\" display 'Von Willebrand disease, type 2A' \n",
      "code \"Von Willebrand disease, type 2B code\": 'D68.021' from \"ICD-10-CM\" display 'Von Willebrand disease, type 2B' \n",
      "code \"Von Willebrand disease, type 2M code\": 'D68.022' from \"ICD-10-CM\" display 'Von Willebrand disease, type 2M' \n",
      "code \"Von Willebrand disease, type 2N code\": 'D68.023' from \"ICD-10-CM\" display 'Von Willebrand disease, type 2N' \n",
      "code \"Von Willebrand disease, type 2, unspecified code\": 'D68.029' from \"ICD-10-CM\" display 'Von Willebrand disease, type 2, unspecified' \n",
      "code \"Von Willebrand disease, type 3 code\": 'D68.03' from \"ICD-10-CM\" display 'Von Willebrand disease, type 3' \n",
      "code \"Acquired von Willebrand disease code\": 'D68.04' from \"ICD-10-CM\" display 'Acquired von Willebrand disease' \n",
      "code \"Other von Willebrand disease code\": 'D68.09' from \"ICD-10-CM\" display 'Other von Willebrand disease' \n"
     ]
    }
   ],
   "source": [
    "for row in df.itertuples():\n",
    "    print(f'''code \"{row.display} code\": '{row.code}' from \"{codesystem}\" display '{row.display}' ''')"
   ]
  },
  {
   "cell_type": "code",
   "execution_count": 18,
   "metadata": {},
   "outputs": [
    {
     "data": {
      "text/plain": [
       "'[Condition:\"Von Willebrand disease code\"] union [Condition:\"Von Willebrand disease, unspecified code\"] union [Condition:\"Von Willebrand disease, type 1 code\"] union [Condition:\"Von Willebrand disease, type 2 code\"] union [Condition:\"Von Willebrand disease, type 2A code\"] union [Condition:\"Von Willebrand disease, type 2B code\"] union [Condition:\"Von Willebrand disease, type 2M code\"] union [Condition:\"Von Willebrand disease, type 2N code\"] union [Condition:\"Von Willebrand disease, type 2, unspecified code\"] union [Condition:\"Von Willebrand disease, type 3 code\"] union [Condition:\"Acquired von Willebrand disease code\"] union [Condition:\"Other von Willebrand disease code\"]'"
      ]
     },
     "execution_count": 18,
     "metadata": {},
     "output_type": "execute_result"
    }
   ],
   "source": [
    "type = 'Condition'\n",
    "' union '.join(f'[{type}:\"{row.display} code\"]' for row in df.itertuples())"
   ]
  },
  {
   "cell_type": "code",
   "execution_count": null,
   "metadata": {},
   "outputs": [],
   "source": []
  }
 ],
 "metadata": {
  "kernelspec": {
   "display_name": "Python 3",
   "language": "python",
   "name": "python3"
  },
  "language_info": {
   "codemirror_mode": {
    "name": "ipython",
    "version": 3
   },
   "file_extension": ".py",
   "mimetype": "text/x-python",
   "name": "python",
   "nbconvert_exporter": "python",
   "pygments_lexer": "ipython3",
   "version": "3.10.11"
  }
 },
 "nbformat": 4,
 "nbformat_minor": 2
}
